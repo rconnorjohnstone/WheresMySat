{
 "cells": [
  {
   "cell_type": "code",
   "execution_count": 4,
   "metadata": {},
   "outputs": [],
   "source": [
    "import jax.numpy as np\n",
    "from jax import grad, jit, vmap, jacfwd\n",
    "from functools import partial"
   ]
  },
  {
   "cell_type": "code",
   "execution_count": 3,
   "metadata": {},
   "outputs": [
    {
     "name": "stdout",
     "output_type": "stream",
     "text": [
      "0.4199743\n"
     ]
    },
    {
     "name": "stderr",
     "output_type": "stream",
     "text": [
      "/usr/lib/python3.6/site-packages/jax/lib/xla_bridge.py:167: UserWarning: No GPU found, falling back to CPU.\n",
      "  warnings.warn('No GPU found, falling back to CPU.')\n"
     ]
    }
   ],
   "source": []
  },
  {
   "cell_type": "code",
   "execution_count": null,
   "metadata": {},
   "outputs": [],
   "source": [
    "### Forces\n",
    "class ForceModel(object):\n",
    "    \"\"\" Defines a force model to use for integration of trajectories or\n",
    "    stms\n",
    "\n",
    "    Args:\n",
    "        force_list (list[functions]): list of force functions to use for\n",
    "            model\n",
    "\n",
    "    \"\"\"\n",
    "    def __init__(self, force_list):\n",
    "        self.force_list = force_list\n",
    "\n",
    "\n",
    "    def ode(self, t, state_vec):\n",
    "        \"\"\" Differential Equation for State vector\n",
    "        \"\"\"\n",
    "        xddot, yddot, zddot = map(sum, zip(*[fxn(state_vec) for\n",
    "                                             fxn in self.force_list]))\n",
    "\n",
    "        out_state = [state_vec[3], state_vec[4], state_vec[5],\n",
    "                     xddot, yddot, zddot]\n",
    "\n",
    "        if len(state_vec) > 6:\n",
    "            out_state.append(-BETA * state_vec[6])\n",
    "            out_state.append(-BETA * state_vec[7])\n",
    "            out_state.append(-BETA * state_vec[8])\n",
    "\n",
    "        return out_state\n",
    "\n",
    "\n"
   ]
  }
 ],
 "metadata": {
  "kernelspec": {
   "display_name": "Python 3",
   "language": "python",
   "name": "python3"
  },
  "language_info": {
   "codemirror_mode": {
    "name": "ipython",
    "version": 3
   },
   "file_extension": ".py",
   "mimetype": "text/x-python",
   "name": "python",
   "nbconvert_exporter": "python",
   "pygments_lexer": "ipython3",
   "version": "3.6.7"
  }
 },
 "nbformat": 4,
 "nbformat_minor": 2
}
